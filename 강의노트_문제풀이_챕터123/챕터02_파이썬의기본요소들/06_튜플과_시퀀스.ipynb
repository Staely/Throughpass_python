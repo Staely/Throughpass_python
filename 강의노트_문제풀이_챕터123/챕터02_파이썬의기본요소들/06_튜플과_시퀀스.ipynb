{
 "cells": [
  {
   "cell_type": "markdown",
   "metadata": {},
   "source": [
    "___\n",
    "<a href='https://cafe.naver.com/jmhonglab'><p style=\"text-align:center;\"><img src='https://lh3.googleusercontent.com/lY3ySXooSmwsq5r-mRi7uiypbo0Vez6pmNoQxMFhl9fmZJkRHu5lO2vo7se_0YOzgmDyJif9fi4_z0o3ZFdwd8NVSWG6Ea80uWaf3pOHpR4GHGDV7kaFeuHR3yAjIJjDgfXMxsvw=w2400'  class=\"center\" width=\"50%\" height=\"50%\"/></p></a>\n",
    "___\n",
    "<center><em>Content Copyright by HongLab, Inc.</em></center>"
   ]
  },
  {
   "cell_type": "markdown",
   "metadata": {},
   "source": [
    "# 튜플(Tuple)\n",
    "\n",
    "|이름|type|예시|가변성|순서유지|중복허용|\n",
    "|---|---|---|---|---|---|\n",
    "|리스트|list|```[\"사과\", 123, 3.14]```|가변|O|O|\n",
    "|튜플|tuple|```(\"사과\", 123, 3.14)```|불변|O|O|\n",
    "|집합|set|```{\"사과\", 123, 3.14}```|가변|X|X|\n",
    "|사전|dict|```{\"원주율\":3.14, 123:\"일이삼\"}```|가변|3.6+|키X값O|\n",
    "\n",
    "\n",
    "튜플은 다양한 데이터 객체들을 담을 수 있다는 점에서 리스트 같이 시퀀스로 분류됩니다. 그러나 리스트와 달리 튜플은 불변(immutable)이기 때문에 용법에서 차이가 있습니다."
   ]
  },
  {
   "cell_type": "markdown",
   "metadata": {},
   "source": [
    "### 튜플 만들기\n",
    "튜플은 괄호와 컴마를 사용합니다. 이때 컴마가 있다면 괄호를 생략할 수도 있습니다."
   ]
  },
  {
   "cell_type": "code",
   "execution_count": 17,
   "metadata": {},
   "outputs": [],
   "source": [
    "# 괄호와 컴마 사용\n",
    "t = ()  # 비어있는 튜플\n",
    "t = (1, 2, 3)\n",
    "t = (\"Hello\", 3.14, 123)  # 여러가지 객체들을 담을 수 있어요\n",
    "t = \"hello\",  # 맨 뒤에 컴마가 있으면 아이템이 하나만 있는 튜플을 만들 수 있어요. 컴마가 없는 경우과 비교해보세요.\n",
    "t = (\"hello\",)  # 포매터가 괄호를 넣어줍니다.\n",
    "t = 1, 2, 3  # 튜플을 만들 때 괄호를 생략하는 것을 패킹(packing)이라고 부르기도 합니다."
   ]
  },
  {
   "cell_type": "code",
   "execution_count": 18,
   "metadata": {},
   "outputs": [
    {
     "data": {
      "text/plain": [
       "(123, 3.14, 'Hello')"
      ]
     },
     "execution_count": 18,
     "metadata": {},
     "output_type": "execute_result"
    }
   ],
   "source": [
    "# 리스트를 튜플로\n",
    "l = [123, 3.14, \"Hello\"]\n",
    "t = tuple(l)\n",
    "t"
   ]
  },
  {
   "cell_type": "code",
   "execution_count": 19,
   "metadata": {},
   "outputs": [
    {
     "data": {
      "text/plain": [
       "[123, 3.14, 'Hello']"
      ]
     },
     "execution_count": 19,
     "metadata": {},
     "output_type": "execute_result"
    }
   ],
   "source": [
    "# 튜플을 리스트로\n",
    "l = list(t)\n",
    "l"
   ]
  },
  {
   "cell_type": "code",
   "execution_count": 20,
   "metadata": {},
   "outputs": [
    {
     "data": {
      "text/plain": [
       "True"
      ]
     },
     "execution_count": 20,
     "metadata": {},
     "output_type": "execute_result"
    }
   ],
   "source": [
    "# 튜플도 안에 튜플을 넣을 수 있어요.\n",
    "t = 123, 3.14, \"hi!\"\n",
    "u = t, (1, 2, 3)\n",
    "\n",
    "id(t) == id(u[0])  # t의 id와 u안에 들어 있는 t의 id가 동일하네요."
   ]
  },
  {
   "cell_type": "code",
   "execution_count": 25,
   "metadata": {},
   "outputs": [
    {
     "data": {
      "text/plain": [
       "tuple"
      ]
     },
     "execution_count": 25,
     "metadata": {},
     "output_type": "execute_result"
    }
   ],
   "source": [
    "# 튜플 안에 리스트를 넣을 수도 있습니다.\n",
    "v = ([1, 2], [3.0, 4.9])\n",
    "\n",
    "type(v[0])"
   ]
  },
  {
   "cell_type": "code",
   "execution_count": 33,
   "metadata": {},
   "outputs": [
    {
     "data": {
      "text/plain": [
       "3"
      ]
     },
     "execution_count": 33,
     "metadata": {},
     "output_type": "execute_result"
    }
   ],
   "source": [
    "# 리스트 안에 튜플을 넣을 수도 있습니다.\n",
    "l = [1, 2, 3, (1, 2, 3)]\n",
    "l[3][2]"
   ]
  },
  {
   "cell_type": "markdown",
   "metadata": {},
   "source": [
    "[주의] 그러나 튜플 안에 가변 객체가 들어 있으면 사전(dict)의 키(key)로 사용될 수 없습니다. 뒤에 dictionary에서 더 자세히 배웁니다."
   ]
  },
  {
   "cell_type": "code",
   "execution_count": 34,
   "metadata": {},
   "outputs": [
    {
     "ename": "TypeError",
     "evalue": "unhashable type: 'list'",
     "output_type": "error",
     "traceback": [
      "\u001b[1;31m---------------------------------------------------------------------------\u001b[0m",
      "\u001b[1;31mTypeError\u001b[0m                                 Traceback (most recent call last)",
      "\u001b[1;32mc:\\Users\\whaha_000\\Documents\\공부\\Python\\22\\July\\_123_v13-220712-005407\\강의노트_문제풀이_챕터123\\챕터02_파이썬의기본요소들\\06_튜플과_시퀀스.ipynb 셀 11\u001b[0m in \u001b[0;36m<cell line: 1>\u001b[1;34m()\u001b[0m\n\u001b[1;32m----> <a href='vscode-notebook-cell:/c%3A/Users/whaha_000/Documents/%EA%B3%B5%EB%B6%80/Python/22/July/_123_v13-220712-005407/%EA%B0%95%EC%9D%98%EB%85%B8%ED%8A%B8_%EB%AC%B8%EC%A0%9C%ED%92%80%EC%9D%B4_%EC%B1%95%ED%84%B0123/%EC%B1%95%ED%84%B002_%ED%8C%8C%EC%9D%B4%EC%8D%AC%EC%9D%98%EA%B8%B0%EB%B3%B8%EC%9A%94%EC%86%8C%EB%93%A4/06_%ED%8A%9C%ED%94%8C%EA%B3%BC_%EC%8B%9C%ED%80%80%EC%8A%A4.ipynb#ch0000010?line=0'>1</a>\u001b[0m d \u001b[39m=\u001b[39m {v: \u001b[39m\"\u001b[39m\u001b[39mhello\u001b[39m\u001b[39m\"\u001b[39m}\n",
      "\u001b[1;31mTypeError\u001b[0m: unhashable type: 'list'"
     ]
    }
   ],
   "source": [
    "d = {v: \"hello\"}"
   ]
  },
  {
   "cell_type": "markdown",
   "metadata": {},
   "source": [
    "### 튜플의 기본적인 사용법\n",
    "\n",
    "인덱싱과 슬라이싱 방법은 리스트와 동일합니다."
   ]
  },
  {
   "cell_type": "code",
   "execution_count": 47,
   "metadata": {},
   "outputs": [
    {
     "data": {
      "text/plain": [
       "1"
      ]
     },
     "execution_count": 47,
     "metadata": {},
     "output_type": "execute_result"
    }
   ],
   "source": [
    "t = (1, 2, 3, 5, 6)\n",
    "t[0]"
   ]
  },
  {
   "cell_type": "code",
   "execution_count": 50,
   "metadata": {},
   "outputs": [
    {
     "data": {
      "text/plain": [
       "(6,)"
      ]
     },
     "execution_count": 50,
     "metadata": {},
     "output_type": "execute_result"
    }
   ],
   "source": [
    "t[5:3:-1]"
   ]
  },
  {
   "cell_type": "markdown",
   "metadata": {},
   "source": [
    "여러가지 메써드들을 사용할 수 있습니다."
   ]
  },
  {
   "cell_type": "code",
   "execution_count": 56,
   "metadata": {},
   "outputs": [
    {
     "data": {
      "text/plain": [
       "5"
      ]
     },
     "execution_count": 56,
     "metadata": {},
     "output_type": "execute_result"
    }
   ],
   "source": [
    "# 아이템이 몇 개 들어있는 지를 알려줍니다.\n",
    "len(t)"
   ]
  },
  {
   "cell_type": "code",
   "execution_count": 55,
   "metadata": {},
   "outputs": [
    {
     "data": {
      "text/plain": [
       "2"
      ]
     },
     "execution_count": 55,
     "metadata": {},
     "output_type": "execute_result"
    }
   ],
   "source": [
    "t = (\"A\", \"B\", \"C\", \"D\", \"E\")\n",
    "\n",
    "# \"C\"가 들어있는 위치 인덱스를 알려줍니다.\n",
    "t.index(\"C\")"
   ]
  },
  {
   "cell_type": "code",
   "execution_count": 53,
   "metadata": {},
   "outputs": [
    {
     "data": {
      "text/plain": [
       "5"
      ]
     },
     "execution_count": 53,
     "metadata": {},
     "output_type": "execute_result"
    }
   ],
   "source": [
    "t = (1, 2, 3, 3, 3, 3, 3, 4, 5)\n",
    "\n",
    "# 3이 몇 개 들어있는지를 알려줍니다.\n",
    "t.count(3)\n",
    "\n",
    "# [참고] 뒤에 배울 set()은 같은 원소를 여러개 포함할 수 없습니다."
   ]
  },
  {
   "cell_type": "markdown",
   "metadata": {},
   "source": [
    "### 패킹(packing)과 언패킹(unpacking)"
   ]
  },
  {
   "cell_type": "markdown",
   "metadata": {},
   "source": [
    "튜플을 만들 때 괄호를 생략하는 것을 여러 객체들을 묶어서 포장한다는 의미에서 패킹(packing)이라고 부르기도 합니다."
   ]
  },
  {
   "cell_type": "code",
   "execution_count": 8,
   "metadata": {},
   "outputs": [],
   "source": [
    "t = 1, 2, 3 # 괄호를 생략해서 사용하는 것"
   ]
  },
  {
   "cell_type": "markdown",
   "metadata": {},
   "source": [
    "[비교] ```print(a, \"헬로우\")```와 같이 함수를 호출할 때 괄호 속에 객체들을 나열하는 것과는 다릅니다. 여기에 대해서는 함수에서 다룹니다."
   ]
  },
  {
   "cell_type": "code",
   "execution_count": 57,
   "metadata": {},
   "outputs": [
    {
     "name": "stdout",
     "output_type": "stream",
     "text": [
      "123\n",
      "456\n",
      "hello\n"
     ]
    }
   ],
   "source": [
    "t = (123, 456, \"hello\")\n",
    "\n",
    "# 튜플 언패킹(unpacking)\n",
    "x, y, z = t\n",
    "\n",
    "print(x)\n",
    "print(y)\n",
    "print(z)"
   ]
  },
  {
   "cell_type": "code",
   "execution_count": 58,
   "metadata": {},
   "outputs": [
    {
     "ename": "ValueError",
     "evalue": "too many values to unpack (expected 2)",
     "output_type": "error",
     "traceback": [
      "\u001b[1;31m---------------------------------------------------------------------------\u001b[0m",
      "\u001b[1;31mValueError\u001b[0m                                Traceback (most recent call last)",
      "\u001b[1;32mc:\\Users\\whaha_000\\Documents\\공부\\Python\\22\\July\\_123_v13-220712-005407\\강의노트_문제풀이_챕터123\\챕터02_파이썬의기본요소들\\06_튜플과_시퀀스.ipynb 셀 24\u001b[0m in \u001b[0;36m<cell line: 2>\u001b[1;34m()\u001b[0m\n\u001b[0;32m      <a href='vscode-notebook-cell:/c%3A/Users/whaha_000/Documents/%EA%B3%B5%EB%B6%80/Python/22/July/_123_v13-220712-005407/%EA%B0%95%EC%9D%98%EB%85%B8%ED%8A%B8_%EB%AC%B8%EC%A0%9C%ED%92%80%EC%9D%B4_%EC%B1%95%ED%84%B0123/%EC%B1%95%ED%84%B002_%ED%8C%8C%EC%9D%B4%EC%8D%AC%EC%9D%98%EA%B8%B0%EB%B3%B8%EC%9A%94%EC%86%8C%EB%93%A4/06_%ED%8A%9C%ED%94%8C%EA%B3%BC_%EC%8B%9C%ED%80%80%EC%8A%A4.ipynb#ch0000023?line=0'>1</a>\u001b[0m \u001b[39m# 아이템의 개수가 맞지 않으면 오류가 발생합니다.\u001b[39;00m\n\u001b[1;32m----> <a href='vscode-notebook-cell:/c%3A/Users/whaha_000/Documents/%EA%B3%B5%EB%B6%80/Python/22/July/_123_v13-220712-005407/%EA%B0%95%EC%9D%98%EB%85%B8%ED%8A%B8_%EB%AC%B8%EC%A0%9C%ED%92%80%EC%9D%B4_%EC%B1%95%ED%84%B0123/%EC%B1%95%ED%84%B002_%ED%8C%8C%EC%9D%B4%EC%8D%AC%EC%9D%98%EA%B8%B0%EB%B3%B8%EC%9A%94%EC%86%8C%EB%93%A4/06_%ED%8A%9C%ED%94%8C%EA%B3%BC_%EC%8B%9C%ED%80%80%EC%8A%A4.ipynb#ch0000023?line=1'>2</a>\u001b[0m x, y \u001b[39m=\u001b[39m t\n",
      "\u001b[1;31mValueError\u001b[0m: too many values to unpack (expected 2)"
     ]
    }
   ],
   "source": [
    "# 아이템의 개수가 맞지 않으면 오류가 발생합니다.\n",
    "x, y = t"
   ]
  },
  {
   "cell_type": "code",
   "execution_count": 11,
   "metadata": {},
   "outputs": [],
   "source": [
    "# 아이템 중 일부를 사용하지 않을 예정이라면 언더스코어로 개수만 맞출 수도 있습니다.\n",
    "# _는 변수가 아니라 그 자리로 언패킹될 아이템은 안받겠다는 의미입니다.\n",
    "x, y, _ = t"
   ]
  },
  {
   "cell_type": "markdown",
   "metadata": {},
   "source": [
    "문자열이나 리스트 같은 다른 시퀀스에서도 언패킹을 사용할 수 있습니다."
   ]
  },
  {
   "cell_type": "code",
   "execution_count": 63,
   "metadata": {},
   "outputs": [
    {
     "data": {
      "text/plain": [
       "'AB'"
      ]
     },
     "execution_count": 63,
     "metadata": {},
     "output_type": "execute_result"
    }
   ],
   "source": [
    "# 문자열 언패킹\n",
    "s = \"AB\"\n",
    "a, b = s"
   ]
  },
  {
   "cell_type": "code",
   "execution_count": 62,
   "metadata": {},
   "outputs": [
    {
     "data": {
      "text/plain": [
       "[1, 2, 3]"
      ]
     },
     "execution_count": 62,
     "metadata": {},
     "output_type": "execute_result"
    }
   ],
   "source": [
    "# 리스트 언패킹\n",
    "l = [1, 2, 3]\n",
    "a, b, _ = l\n",
    "l"
   ]
  },
  {
   "cell_type": "markdown",
   "metadata": {},
   "source": [
    "### 튜플의 불변성(Immutability)\n",
    "튜플은 객체의 내용을 변경할 수 없습니다."
   ]
  },
  {
   "cell_type": "code",
   "execution_count": 64,
   "metadata": {},
   "outputs": [
    {
     "ename": "TypeError",
     "evalue": "'tuple' object does not support item assignment",
     "output_type": "error",
     "traceback": [
      "\u001b[1;31m---------------------------------------------------------------------------\u001b[0m",
      "\u001b[1;31mTypeError\u001b[0m                                 Traceback (most recent call last)",
      "\u001b[1;32mc:\\Users\\whaha_000\\Documents\\공부\\Python\\22\\July\\_123_v13-220712-005407\\강의노트_문제풀이_챕터123\\챕터02_파이썬의기본요소들\\06_튜플과_시퀀스.ipynb 셀 30\u001b[0m in \u001b[0;36m<cell line: 1>\u001b[1;34m()\u001b[0m\n\u001b[1;32m----> <a href='vscode-notebook-cell:/c%3A/Users/whaha_000/Documents/%EA%B3%B5%EB%B6%80/Python/22/July/_123_v13-220712-005407/%EA%B0%95%EC%9D%98%EB%85%B8%ED%8A%B8_%EB%AC%B8%EC%A0%9C%ED%92%80%EC%9D%B4_%EC%B1%95%ED%84%B0123/%EC%B1%95%ED%84%B002_%ED%8C%8C%EC%9D%B4%EC%8D%AC%EC%9D%98%EA%B8%B0%EB%B3%B8%EC%9A%94%EC%86%8C%EB%93%A4/06_%ED%8A%9C%ED%94%8C%EA%B3%BC_%EC%8B%9C%ED%80%80%EC%8A%A4.ipynb#ch0000029?line=0'>1</a>\u001b[0m t[\u001b[39m0\u001b[39m] \u001b[39m=\u001b[39m \u001b[39m456\u001b[39m\n",
      "\u001b[1;31mTypeError\u001b[0m: 'tuple' object does not support item assignment"
     ]
    }
   ],
   "source": [
    "t[0] = 456"
   ]
  },
  {
   "cell_type": "markdown",
   "metadata": {},
   "source": [
    "당연히 객체를 변경하는 메써드들도 가지고 있지 않습니다."
   ]
  },
  {
   "cell_type": "code",
   "execution_count": 65,
   "metadata": {},
   "outputs": [
    {
     "ename": "AttributeError",
     "evalue": "'tuple' object has no attribute 'append'",
     "output_type": "error",
     "traceback": [
      "\u001b[1;31m---------------------------------------------------------------------------\u001b[0m",
      "\u001b[1;31mAttributeError\u001b[0m                            Traceback (most recent call last)",
      "\u001b[1;32mc:\\Users\\whaha_000\\Documents\\공부\\Python\\22\\July\\_123_v13-220712-005407\\강의노트_문제풀이_챕터123\\챕터02_파이썬의기본요소들\\06_튜플과_시퀀스.ipynb 셀 32\u001b[0m in \u001b[0;36m<cell line: 2>\u001b[1;34m()\u001b[0m\n\u001b[0;32m      <a href='vscode-notebook-cell:/c%3A/Users/whaha_000/Documents/%EA%B3%B5%EB%B6%80/Python/22/July/_123_v13-220712-005407/%EA%B0%95%EC%9D%98%EB%85%B8%ED%8A%B8_%EB%AC%B8%EC%A0%9C%ED%92%80%EC%9D%B4_%EC%B1%95%ED%84%B0123/%EC%B1%95%ED%84%B002_%ED%8C%8C%EC%9D%B4%EC%8D%AC%EC%9D%98%EA%B8%B0%EB%B3%B8%EC%9A%94%EC%86%8C%EB%93%A4/06_%ED%8A%9C%ED%94%8C%EA%B3%BC_%EC%8B%9C%ED%80%80%EC%8A%A4.ipynb#ch0000031?line=0'>1</a>\u001b[0m \u001b[39m# 리스트에는 append() 메써드가 있었지요.\u001b[39;00m\n\u001b[1;32m----> <a href='vscode-notebook-cell:/c%3A/Users/whaha_000/Documents/%EA%B3%B5%EB%B6%80/Python/22/July/_123_v13-220712-005407/%EA%B0%95%EC%9D%98%EB%85%B8%ED%8A%B8_%EB%AC%B8%EC%A0%9C%ED%92%80%EC%9D%B4_%EC%B1%95%ED%84%B0123/%EC%B1%95%ED%84%B002_%ED%8C%8C%EC%9D%B4%EC%8D%AC%EC%9D%98%EA%B8%B0%EB%B3%B8%EC%9A%94%EC%86%8C%EB%93%A4/06_%ED%8A%9C%ED%94%8C%EA%B3%BC_%EC%8B%9C%ED%80%80%EC%8A%A4.ipynb#ch0000031?line=1'>2</a>\u001b[0m t\u001b[39m.\u001b[39;49mappend(\u001b[39m\"\u001b[39m\u001b[39m새로 추가가 가능할까요?\u001b[39m\u001b[39m\"\u001b[39m)\n",
      "\u001b[1;31mAttributeError\u001b[0m: 'tuple' object has no attribute 'append'"
     ]
    }
   ],
   "source": [
    "# 리스트에는 append() 메써드가 있었지요.\n",
    "t.append(\"새로 추가가 가능할까요?\")"
   ]
  },
  {
   "cell_type": "markdown",
   "metadata": {},
   "source": [
    "튜플은 리스트보다 메모리를 적게 사용합니다."
   ]
  },
  {
   "cell_type": "code",
   "execution_count": 66,
   "metadata": {},
   "outputs": [
    {
     "name": "stdout",
     "output_type": "stream",
     "text": [
      "리스트 객체의 크기 120\n",
      "튜플 객체의 크기 72\n"
     ]
    }
   ],
   "source": [
    "l = [\"사과\", \"바나나\", \"오렌지\", 3.14]\n",
    "t = tuple(l)\n",
    "\n",
    "import sys\n",
    "\n",
    "print(\"리스트 객체의 크기\", sys.getsizeof(l))\n",
    "print(\"튜플 객체의 크기\", sys.getsizeof(t))"
   ]
  },
  {
   "cell_type": "markdown",
   "metadata": {},
   "source": [
    "일반적으로 리스트는 아이템을 추가하거나 삭제할 일이 많을 때 편리합니다. 예를 들어서 레스토랑의 대기 손님의 목록(리스트)을 생각해보면 새로운 손님을 추가할 수도 있고 입장한 손님을 삭제할 수도 있어야 합니다.  \n",
    "\n",
    "반면에 튜플은 리스트보다 메모리를 적게 차지하고 처리 속도가 빠릅니다. 아이템 추가/삭제가 불가능하다는 점에서 사용이 불편해보일 수도 있지만 리스트의 가변성이 예기치 못한 실수나 **문맥** 오류로 이어질 수도 있기 때문에 튜플이 오히려 더 중요하게 사용되는 경우도 많습니다."
   ]
  },
  {
   "cell_type": "markdown",
   "metadata": {},
   "source": [
    "# [시퀀스](https://docs.python.org/ko/3/library/stdtypes.html#typesseq) (Sequence)\n",
    "\n",
    "문자열(str), 리스트(list), 튜플(tuple), 범위(range) 등이 시퀀스 자료형으로 분류됩니다. 아래 연산들은 모든 시퀀스 객체에서 사용할 수 있습니다. 시퀀스가 아이템들이 나열된 구조라는 것과 연관지으면 직관적으로 이해할 수 있습니다."
   ]
  },
  {
   "cell_type": "code",
   "execution_count": 68,
   "metadata": {},
   "outputs": [
    {
     "data": {
      "text/plain": [
       "False"
      ]
     },
     "execution_count": 68,
     "metadata": {},
     "output_type": "execute_result"
    }
   ],
   "source": [
    "t = (1, 2, 3, 4, 5)\n",
    "\n",
    "# 1이 t에 포함되어 있는지를 True/False로 알려줍니다.\n",
    "10 in t"
   ]
  },
  {
   "cell_type": "code",
   "execution_count": 69,
   "metadata": {},
   "outputs": [
    {
     "data": {
      "text/plain": [
       "False"
      ]
     },
     "execution_count": 69,
     "metadata": {},
     "output_type": "execute_result"
    }
   ],
   "source": [
    "t = (1, 2, 3, 4, 5)\n",
    "\n",
    "# 1이 t에 포함되어 있지 '않은지'를 True/False로 알려줍니다.\n",
    "1 not in t"
   ]
  },
  {
   "cell_type": "code",
   "execution_count": 70,
   "metadata": {},
   "outputs": [
    {
     "data": {
      "text/plain": [
       "(1, 2, 3, 4, 5, 6, 7, 8, 9, 10)"
      ]
     },
     "execution_count": 70,
     "metadata": {},
     "output_type": "execute_result"
    }
   ],
   "source": [
    "t = (1, 2, 3, 4, 5)\n",
    "s = (6, 7, 8, 9, 10)\n",
    "\n",
    "# +로 합칠 수 있습니다.\n",
    "t + s"
   ]
  },
  {
   "cell_type": "code",
   "execution_count": 71,
   "metadata": {},
   "outputs": [
    {
     "data": {
      "text/plain": [
       "(2, 3)"
      ]
     },
     "execution_count": 71,
     "metadata": {},
     "output_type": "execute_result"
    }
   ],
   "source": [
    "t = (1, 2, 3, 4, 5)\n",
    "\n",
    "# 인덱싱과 슬라이딩을 사용할 수 있습니다.\n",
    "t[0]\n",
    "t[1:3]"
   ]
  },
  {
   "cell_type": "code",
   "execution_count": 72,
   "metadata": {},
   "outputs": [
    {
     "data": {
      "text/plain": [
       "5"
      ]
     },
     "execution_count": 72,
     "metadata": {},
     "output_type": "execute_result"
    }
   ],
   "source": [
    "t = (1, 2, 3, 4, 5)\n",
    "\n",
    "# 아이템의 개수를 확인할 수 있습니다.\n",
    "len(t)"
   ]
  },
  {
   "cell_type": "code",
   "execution_count": 73,
   "metadata": {},
   "outputs": [
    {
     "data": {
      "text/plain": [
       "5"
      ]
     },
     "execution_count": 73,
     "metadata": {},
     "output_type": "execute_result"
    }
   ],
   "source": [
    "t = (1, 2, 3, 4, 5)\n",
    "\n",
    "# 가장 큰 아이템을 찾아줍니다. 문자열에도 사용해보세요.\n",
    "max(t)"
   ]
  },
  {
   "cell_type": "code",
   "execution_count": 74,
   "metadata": {},
   "outputs": [
    {
     "data": {
      "text/plain": [
       "1"
      ]
     },
     "execution_count": 74,
     "metadata": {},
     "output_type": "execute_result"
    }
   ],
   "source": [
    "l = [1, 2, 3, 4, 5]\n",
    "\n",
    "# 가장 작은 아이템을 찾아줍니다. 문자열에도 사용해보세요.\n",
    "min(t)"
   ]
  },
  {
   "cell_type": "code",
   "execution_count": 75,
   "metadata": {},
   "outputs": [
    {
     "data": {
      "text/plain": [
       "2"
      ]
     },
     "execution_count": 75,
     "metadata": {},
     "output_type": "execute_result"
    }
   ],
   "source": [
    "t = (\"A\", \"B\", \"C\", \"D\", \"E\")\n",
    "\n",
    "# \"C\"가 들어있는 위치 인덱스를 알려줍니다.\n",
    "t.index(\"C\")"
   ]
  },
  {
   "cell_type": "code",
   "execution_count": 76,
   "metadata": {},
   "outputs": [
    {
     "data": {
      "text/plain": [
       "5"
      ]
     },
     "execution_count": 76,
     "metadata": {},
     "output_type": "execute_result"
    }
   ],
   "source": [
    "t = (1, 2, 3, 3, 3, 3, 3, 4, 5)\n",
    "\n",
    "# 3이 몇 개 들어있는지를 알려줍니다.\n",
    "t.count(3)\n",
    "\n",
    "# [참고] 뒤에 배울 set()은 같은 원소를 여러개 포함할 수 없습니다."
   ]
  },
  {
   "cell_type": "markdown",
   "metadata": {},
   "source": [
    "range()는 for문과 함께 사용되는 경우가 많습니다.\n"
   ]
  },
  {
   "cell_type": "code",
   "execution_count": 80,
   "metadata": {},
   "outputs": [
    {
     "data": {
      "text/plain": [
       "[0, 2, 4, 6, 8, 10]"
      ]
     },
     "execution_count": 80,
     "metadata": {},
     "output_type": "execute_result"
    }
   ],
   "source": [
    "l = []  #list\n",
    "for i in range(0, 11, 2):  # (start, stop, step)은 슬라이싱과 동일\n",
    "    l.append(i)\n",
    "# l의 아이템들을 추측해보세요.\n",
    "l"
   ]
  }
 ],
 "metadata": {
  "kernelspec": {
   "display_name": "Python 3.9.12 ('base')",
   "language": "python",
   "name": "python3"
  },
  "language_info": {
   "codemirror_mode": {
    "name": "ipython",
    "version": 3
   },
   "file_extension": ".py",
   "mimetype": "text/x-python",
   "name": "python",
   "nbconvert_exporter": "python",
   "pygments_lexer": "ipython3",
   "version": "3.9.12"
  },
  "orig_nbformat": 4,
  "vscode": {
   "interpreter": {
    "hash": "2c4fbd12b2a3d7b3b67397f22f182eeabf3f956831a534fae1b1ed1d3c46bd90"
   }
  }
 },
 "nbformat": 4,
 "nbformat_minor": 2
}
