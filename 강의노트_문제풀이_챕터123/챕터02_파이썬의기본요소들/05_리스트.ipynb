{
 "cells": [
  {
   "cell_type": "markdown",
   "metadata": {},
   "source": [
    "___\n",
    "<a href='https://cafe.naver.com/jmhonglab'><p style=\"text-align:center;\"><img src='https://lh3.googleusercontent.com/lY3ySXooSmwsq5r-mRi7uiypbo0Vez6pmNoQxMFhl9fmZJkRHu5lO2vo7se_0YOzgmDyJif9fi4_z0o3ZFdwd8NVSWG6Ea80uWaf3pOHpR4GHGDV7kaFeuHR3yAjIJjDgfXMxsvw=w2400'  class=\"center\" width=\"50%\" height=\"50%\"/></p></a>\n",
    "___\n",
    "<center><em>Content Copyright by HongLab, Inc.</em></center>"
   ]
  },
  {
   "cell_type": "markdown",
   "metadata": {},
   "source": [
    "# 파이썬 컨테이너(Containers)\n",
    "\n",
    "파이썬에서는 다른 객체들을 여러 개 담을 수 있는 자료형들도 제공합니다. 기본적으로는 리스트(list), 사전(dict), 집합(set), 튜플(tuple) 등이 제공됩니다. [collections 모듈](https://docs.python.org/ko/3/library/collections.html)을 통해서 더 많은 종류의 컨테이너 자료형들을 사용할 수 있습니다.\n",
    "\n",
    "### 기본 컨테이터 자료형들 정리\n",
    "\n",
    "|이름|type|예시|가변성|순서유지|중복허용|\n",
    "|---|---|---|---|---|---|\n",
    "|리스트|list|```[\"사과\", 123, 3.14]```|가변|O|O|\n",
    "|튜플|tuple|```(\"사과\", 123, 3.14)```|불변|O|O|\n",
    "|집합|set|```{\"사과\", 123, 3.14}```|가변|X|X|\n",
    "|사전|dict|```{\"원주율\":3.14, 123:\"일이삼\"}```|가변|3.6+|키X값O|"
   ]
  },
  {
   "cell_type": "markdown",
   "metadata": {},
   "source": [
    "# [리스트](https://docs.python.org/ko/3/tutorial/introduction.html#lists) 사용법 ([List](https://docs.python.org/3/tutorial/introduction.html#lists))\n",
    "\n",
    "리스트는 파이썬에서 가장 유연하게 사용할 수 있고 많이 사용되는 컨테이너입니다.\n",
    "\n",
    "### 리스트를 만드는 방법\n",
    "리스트는 대괄호(square brackets [])으로 만들어지고 컴마(comma ,) 기호를 이용해서 아이템(item)을 구분합니다."
   ]
  },
  {
   "cell_type": "code",
   "execution_count": 2,
   "metadata": {},
   "outputs": [
    {
     "data": {
      "text/plain": [
       "[101, 102, 103, 104, 105, 106, 107, 108, 109, 110]"
      ]
     },
     "execution_count": 2,
     "metadata": {},
     "output_type": "execute_result"
    }
   ],
   "source": [
    "my_list = []  # 비어있는 리스트\n",
    "my_list = [1, 2, 3, 4, 5] # 아이템 나열\n",
    "my_list = [\"A string\", 23, 100.232, \"o\"] # 다양한 자료형의 객체들을 담을 수 있어요\n",
    "my_list = [x + 100 for x in range(1, 11)] # 아이템들의 조건을 기술\n",
    "my_list"
   ]
  },
  {
   "cell_type": "code",
   "execution_count": 3,
   "metadata": {},
   "outputs": [
    {
     "data": {
      "text/plain": [
       "10"
      ]
     },
     "execution_count": 3,
     "metadata": {},
     "output_type": "execute_result"
    }
   ],
   "source": [
    "# 아이템 개수\n",
    "len(my_list)"
   ]
  },
  {
   "cell_type": "markdown",
   "metadata": {},
   "source": [
    "### 리스트는 가변(Mutable)\n",
    "\n",
    "리스트는 문자열과 달리 가변(mutable) 자료형입니다."
   ]
  },
  {
   "cell_type": "code",
   "execution_count": null,
   "metadata": {},
   "outputs": [],
   "source": [
    "my_list = [\"하나\", \"two\", 3, 4.0]\n",
    "\n",
    "# 리스트에서도 인덱싱을 사용할 수 있습니다.\n",
    "my_list[0]"
   ]
  },
  {
   "cell_type": "code",
   "execution_count": null,
   "metadata": {},
   "outputs": [],
   "source": [
    "# 슬라이싱 규칙은 문자열과 같아요\n",
    "my_list[1:]"
   ]
  },
  {
   "cell_type": "code",
   "execution_count": 4,
   "metadata": {},
   "outputs": [
    {
     "name": "stdout",
     "output_type": "stream",
     "text": [
      "1756611373440 [101, 102, 103, 104, 105, 106, 107, 108, 109, 110]\n",
      "1756611373440 ['하나 아이템', 102, 103, 104, 105, 106, 107, 108, 109, 110]\n"
     ]
    }
   ],
   "source": [
    "# 리스트는 가변(mutable) 자료형, 객체를 유지한 상태에서 내용물을 바꾼다.\n",
    "\n",
    "print(id(my_list), my_list)\n",
    "\n",
    "my_list[0] = \"하나 아이템\"\n",
    "\n",
    "print(id(my_list), my_list)"
   ]
  },
  {
   "cell_type": "code",
   "execution_count": 5,
   "metadata": {},
   "outputs": [
    {
     "name": "stdout",
     "output_type": "stream",
     "text": [
      "1756611432256\n",
      "1756611432256\n"
     ]
    },
    {
     "data": {
      "text/plain": [
       "[0, 'A', 'B', 'C', 3, 4, 5]"
      ]
     },
     "execution_count": 5,
     "metadata": {},
     "output_type": "execute_result"
    }
   ],
   "source": [
    "# 슬라이싱으로도 대입이 가능해요\n",
    "\n",
    "my_list = [0, 1, 2, 3, 4, 5]\n",
    "\n",
    "print(id(my_list))\n",
    "\n",
    "my_list[1:3] = [\"A\", \"B\", \"C\"]\n",
    "\n",
    "print(id(my_list))\n",
    "\n",
    "my_list"
   ]
  },
  {
   "cell_type": "code",
   "execution_count": 6,
   "metadata": {},
   "outputs": [
    {
     "data": {
      "text/plain": [
       "[0, 'A', 'B', 'C', 3, 4, 5, '추가된 아이템']"
      ]
     },
     "execution_count": 6,
     "metadata": {},
     "output_type": "execute_result"
    }
   ],
   "source": [
    "# 더하기 연산자로 아이템 추가 (주의: 리스트 끼리만 연산)\n",
    "my_list + [\"추가된 아이템\"]"
   ]
  },
  {
   "cell_type": "code",
   "execution_count": 7,
   "metadata": {},
   "outputs": [
    {
     "data": {
      "text/plain": [
       "[0, 'A', 'B', 'C', 3, 4, 5]"
      ]
     },
     "execution_count": 7,
     "metadata": {},
     "output_type": "execute_result"
    }
   ],
   "source": [
    "# 원래 리스트에는 변화가 없음\n",
    "my_list"
   ]
  },
  {
   "cell_type": "code",
   "execution_count": 9,
   "metadata": {},
   "outputs": [
    {
     "name": "stdout",
     "output_type": "stream",
     "text": [
      "1756582020224\n",
      "1756603387456\n"
     ]
    }
   ],
   "source": [
    "print(id(my_list))\n",
    "\n",
    "my_list = my_list + [\"아이템을 추가하면 ID가 달라질까요?\"]\n",
    "\n",
    "print(id(my_list))"
   ]
  },
  {
   "cell_type": "code",
   "execution_count": 10,
   "metadata": {},
   "outputs": [
    {
     "name": "stdout",
     "output_type": "stream",
     "text": [
      "1756603387456\n",
      "1756603387456\n"
     ]
    }
   ],
   "source": [
    "print(id(my_list))\n",
    "\n",
    "my_list += [\"아이템을 추가하면 ID가 달라질까요?\"]\n",
    "\n",
    "print(id(my_list))  # id가 달라지지 않는다."
   ]
  },
  {
   "cell_type": "code",
   "execution_count": 11,
   "metadata": {},
   "outputs": [
    {
     "name": "stdout",
     "output_type": "stream",
     "text": [
      "1756603387456\n",
      "1756611354432\n"
     ]
    }
   ],
   "source": [
    "print(id(my_list))\n",
    "\n",
    "my_list = my_list * 2  # duplicate list\n",
    "\n",
    "print(id(my_list))\n"
   ]
  },
  {
   "cell_type": "code",
   "execution_count": 12,
   "metadata": {},
   "outputs": [
    {
     "name": "stdout",
     "output_type": "stream",
     "text": [
      "1756611354432\n",
      "1756611354432\n"
     ]
    }
   ],
   "source": [
    "print(id(my_list))\n",
    "\n",
    "my_list *= 2  # duplicate list\n",
    "\n",
    "print(id(my_list))  #객체가 바뀌지 않는다. 신기하다."
   ]
  },
  {
   "cell_type": "markdown",
   "metadata": {},
   "source": [
    "### 기본적인 메써드\n",
    "문자열은 변경을 하려면 새로운 객체를 만들어야 했습니다.  \n",
    "리스트는 가변 자료형이기 때문에 객체를 유지한 채로 내용을 바꿀 수 있어요."
   ]
  },
  {
   "cell_type": "code",
   "execution_count": 36,
   "metadata": {},
   "outputs": [
    {
     "name": "stdout",
     "output_type": "stream",
     "text": [
      "1756611140480\n",
      "1756611140480\n"
     ]
    },
    {
     "data": {
      "text/plain": [
       "[1, 2, 3, '새로운 아이템 추가!']"
      ]
     },
     "execution_count": 36,
     "metadata": {},
     "output_type": "execute_result"
    }
   ],
   "source": [
    "my_list = [1, 2, 3]\n",
    "\n",
    "print(id(my_list))\n",
    "\n",
    "# append() 메써드를 이용하면 새로운 아이템을 추가할 수 있어요\n",
    "my_list.append(\"새로운 아이템 추가!\")\n",
    "\n",
    "print(id(my_list)) # id가 변할까요?\n",
    "\n",
    "my_list"
   ]
  },
  {
   "cell_type": "code",
   "execution_count": 48,
   "metadata": {},
   "outputs": [
    {
     "data": {
      "text/plain": [
       "[1, 2, 3, '새로운 아이템추가']"
      ]
     },
     "execution_count": 48,
     "metadata": {},
     "output_type": "execute_result"
    }
   ],
   "source": [
    "my_list = [1, 2, 3]\n",
    "\n",
    "# 이렇게 하면 새로운 객체를 만들어줄까?\n",
    "#new_list = my_list.append(\"새로운 아이템 추가!\")\n",
    "my_list.append(\"새로운 아이템추가\")\n",
    "my_list\n",
    "#type(new_list)  #NoneType ? def append -> None 받으려고 하지마세요. 새로운 객체를 생성하지 않는다."
   ]
  },
  {
   "cell_type": "code",
   "execution_count": 3,
   "metadata": {},
   "outputs": [
    {
     "name": "stdout",
     "output_type": "stream",
     "text": [
      "팝: 1\n",
      "리스트: [2, 3]\n"
     ]
    }
   ],
   "source": [
    "my_list = [1, 2, 3]\n",
    "\n",
    "# pop() 메써드를 사용하면 원하는 위치에서 아이템 하나를 가져오면서 삭제합니다.\n",
    "p = my_list.pop(0)  \n",
    "\n",
    "print(\"팝:\", p)\n",
    "print(\"리스트:\", my_list)"
   ]
  },
  {
   "cell_type": "code",
   "execution_count": 46,
   "metadata": {},
   "outputs": [
    {
     "data": {
      "text/plain": [
       "['E', 'D', 'C', 'B', 'A']"
      ]
     },
     "execution_count": 46,
     "metadata": {},
     "output_type": "execute_result"
    }
   ],
   "source": [
    "my_list = [\"A\", \"B\", \"C\", \"D\", \"E\"]\n",
    "\n",
    "# reverse() 메써드 사용\n",
    "my_list.reverse()\n",
    "\n",
    "my_list"
   ]
  },
  {
   "cell_type": "code",
   "execution_count": 24,
   "metadata": {},
   "outputs": [
    {
     "name": "stdout",
     "output_type": "stream",
     "text": [
      "None\n"
     ]
    }
   ],
   "source": [
    "my_list = [\"A\", \"B\", \"C\", \"D\", \"E\"]\n",
    "\n",
    "# 만약 reverse() 함수의 결과를 다른 변수로 받는다면?\n",
    "new_list = my_list.reverse()\n",
    "\n",
    "# 확인해봅시다.\n",
    "print(new_list)"
   ]
  },
  {
   "cell_type": "code",
   "execution_count": 25,
   "metadata": {},
   "outputs": [
    {
     "data": {
      "text/plain": [
       "(['E', 'D', 'C', 'B', 'A'], ['A', 'B', 'C', 'D', 'E'])"
      ]
     },
     "execution_count": 25,
     "metadata": {},
     "output_type": "execute_result"
    }
   ],
   "source": [
    "# 만약 reverse 된 새로운 리스트를 만들고 싶다면?\n",
    "my_list = [\"A\", \"B\", \"C\", \"D\", \"E\"]\n",
    "\n",
    "# 슬라이싱을 이용해보세요.\n",
    "new_list = my_list[::-1]\n",
    "new_list, my_list"
   ]
  },
  {
   "cell_type": "code",
   "execution_count": 26,
   "metadata": {},
   "outputs": [
    {
     "data": {
      "text/plain": [
       "[9, 5, 4, 3, 2, 1, 1]"
      ]
     },
     "execution_count": 26,
     "metadata": {},
     "output_type": "execute_result"
    }
   ],
   "source": [
    "my_list = [3, 1, 4, 1, 5, 9, 2]\n",
    "\n",
    "# 정렬 sort() 메써드 사용\n",
    "my_list.sort(reverse=True)\n",
    "my_list"
   ]
  },
  {
   "cell_type": "code",
   "execution_count": 27,
   "metadata": {},
   "outputs": [
    {
     "data": {
      "text/plain": [
       "['Apple', 'Beyond', 'Python', 'apple', 'compilers', 'hello']"
      ]
     },
     "execution_count": 27,
     "metadata": {},
     "output_type": "execute_result"
    }
   ],
   "source": [
    "my_list = ['Python', \"Beyond\", \"hello\", \"compilers\", \"apple\", \"Apple\"]\n",
    "\n",
    "# 문자열을 정렬한다면?\n",
    "my_list.sort()\n",
    "my_list"
   ]
  },
  {
   "cell_type": "markdown",
   "metadata": {},
   "source": [
    "이 외에도 다양한 메써드들이 제공됩니다. 어떤 기능을 하는지 추측해보세요."
   ]
  },
  {
   "cell_type": "code",
   "execution_count": 49,
   "metadata": {},
   "outputs": [
    {
     "name": "stdout",
     "output_type": "stream",
     "text": [
      "[]\n"
     ]
    }
   ],
   "source": [
    "my_list = [3, 1, 4, 1, 5, 9, 2]\n",
    "\n",
    "my_list.clear()     #list에 내용물을 다 지워 버리는 method\n",
    "\n",
    "my_list\n",
    "\n",
    "print(my_list)"
   ]
  },
  {
   "cell_type": "code",
   "execution_count": 50,
   "metadata": {},
   "outputs": [
    {
     "data": {
      "text/plain": [
       "4"
      ]
     },
     "execution_count": 50,
     "metadata": {},
     "output_type": "execute_result"
    }
   ],
   "source": [
    "my_list = [\"내가\", \"몇개\", \"몇개\", \"몇개\", \"몇개\", \"있을까?\"]\n",
    "\n",
    "my_list.count(\"몇개\")"
   ]
  },
  {
   "cell_type": "code",
   "execution_count": 55,
   "metadata": {},
   "outputs": [
    {
     "data": {
      "text/plain": [
       "[4, 5, 6, 1, 2, 3, 4, 5, 6]"
      ]
     },
     "execution_count": 55,
     "metadata": {},
     "output_type": "execute_result"
    }
   ],
   "source": [
    "my_list = [1, 2, 3]\n",
    "list_to_add = [4, 5, 6]\n",
    "\n",
    "my_list.extend(list_to_add)\n",
    "list_to_add.extend(my_list)\n",
    "list_to_add"
   ]
  },
  {
   "cell_type": "code",
   "execution_count": 58,
   "metadata": {},
   "outputs": [
    {
     "data": {
      "text/plain": [
       "1"
      ]
     },
     "execution_count": 58,
     "metadata": {},
     "output_type": "execute_result"
    }
   ],
   "source": [
    "my_list = [\"내가\", \"몇개\", \"몇개\", \"몇개\", \"몇개\", \"있을까?\"]\n",
    "\n",
    "my_list.index(\"몇개\")"
   ]
  },
  {
   "cell_type": "code",
   "execution_count": 62,
   "metadata": {},
   "outputs": [
    {
     "data": {
      "text/plain": [
       "['내가', '몇개', '몇개', '있을까?']"
      ]
     },
     "execution_count": 62,
     "metadata": {},
     "output_type": "execute_result"
    }
   ],
   "source": [
    "my_list = [\"내가\", \"몇개\", \"몇개\", \"몇개\", \"몇개\", \"있을까?\"]\n",
    "\n",
    "my_list.remove(\"몇개\")\n",
    "my_list.remove(\"몇개\")\n",
    "my_list"
   ]
  },
  {
   "cell_type": "code",
   "execution_count": 64,
   "metadata": {},
   "outputs": [
    {
     "data": {
      "text/plain": [
       "['A', 'B', 'C', 'D', 'E']"
      ]
     },
     "execution_count": 64,
     "metadata": {},
     "output_type": "execute_result"
    }
   ],
   "source": [
    "my_list = [\"A\", \"B\", \"D\", \"E\"]\n",
    "\n",
    "my_list.insert(2, \"C\")\n",
    "\n",
    "my_list"
   ]
  },
  {
   "cell_type": "markdown",
   "metadata": {},
   "source": [
    "정답은 [여기](https://www.w3schools.com/python/python_ref_list.asp)를 참고하시거나 검색해보세요."
   ]
  },
  {
   "cell_type": "markdown",
   "metadata": {},
   "source": [
    "### 중첩 리스트 (Nested List)"
   ]
  },
  {
   "cell_type": "markdown",
   "metadata": {},
   "source": [
    "리스트 안에 리스트를 넣을 수도 있습니다."
   ]
  },
  {
   "cell_type": "code",
   "execution_count": 151,
   "metadata": {},
   "outputs": [],
   "source": [
    "my_list = [[\"Hello\", 1, 2], 3, 4, [5, \"Apple\"]]"
   ]
  },
  {
   "cell_type": "code",
   "execution_count": 152,
   "metadata": {},
   "outputs": [
    {
     "data": {
      "text/plain": [
       "(['Hello', 1, 2], list)"
      ]
     },
     "execution_count": 152,
     "metadata": {},
     "output_type": "execute_result"
    }
   ],
   "source": [
    "# 중첩 리스트의 인덱싱\n",
    "my_list[0], type(my_list[0])"
   ]
  },
  {
   "cell_type": "code",
   "execution_count": 154,
   "metadata": {},
   "outputs": [
    {
     "data": {
      "text/plain": [
       "'Hello'"
      ]
     },
     "execution_count": 154,
     "metadata": {},
     "output_type": "execute_result"
    }
   ],
   "source": [
    "my_list[0][0]"
   ]
  },
  {
   "cell_type": "code",
   "execution_count": 98,
   "metadata": {},
   "outputs": [
    {
     "data": {
      "text/plain": [
       "[[1, 2, 3], [4, 5, 6], [7, 8, 9]]"
      ]
     },
     "execution_count": 98,
     "metadata": {},
     "output_type": "execute_result"
    }
   ],
   "source": [
    "# Let's make three lists\n",
    "l0 = [1, 2, 3]\n",
    "l1 = [4, 5, 6]\n",
    "l2 = [7, 8, 9]\n",
    "\n",
    "# Make a list of lists to form a matrix\n",
    "matrix = [l0, l1, l2]\n",
    "matrix"
   ]
  },
  {
   "cell_type": "code",
   "execution_count": null,
   "metadata": {},
   "outputs": [],
   "source": [
    "matrix[0]"
   ]
  },
  {
   "cell_type": "code",
   "execution_count": null,
   "metadata": {},
   "outputs": [],
   "source": [
    "matrix[0][0]"
   ]
  },
  {
   "cell_type": "markdown",
   "metadata": {},
   "source": [
    "가변 컨테이너에 가변 객체를 넣을 때는 주의해야 합니다."
   ]
  },
  {
   "cell_type": "code",
   "execution_count": 155,
   "metadata": {},
   "outputs": [
    {
     "data": {
      "text/plain": [
       "(1756611049216, 1756611066560)"
      ]
     },
     "execution_count": 155,
     "metadata": {},
     "output_type": "execute_result"
    }
   ],
   "source": [
    "my_list = [\"Hello\", 2, 3, 4, 5]\n",
    "\n",
    "# 동일하지만 새로운 리스트 객체를 만들어줍니다.\n",
    "new_list = my_list.copy()\n",
    "\n",
    "id(my_list), id(new_list) # 리스트 자체는 새로 만들어졌어요"
   ]
  },
  {
   "cell_type": "code",
   "execution_count": 157,
   "metadata": {},
   "outputs": [
    {
     "data": {
      "text/plain": [
       "(1756611620784, 1756611620784)"
      ]
     },
     "execution_count": 157,
     "metadata": {},
     "output_type": "execute_result"
    }
   ],
   "source": [
    "id(my_list[0]), id(new_list[0]) # 그러나 원소들은? 동일한 문자와 숫자열은 같은 주소를 사용한다."
   ]
  },
  {
   "cell_type": "code",
   "execution_count": 166,
   "metadata": {},
   "outputs": [
    {
     "data": {
      "text/plain": [
       "('New Hello', ['Hello'])"
      ]
     },
     "execution_count": 166,
     "metadata": {},
     "output_type": "execute_result"
    }
   ],
   "source": [
    "# 불변 객체를 바꿔줄 경우\n",
    "my_list[0] = \"New Hello\"\n",
    "\n",
    "my_list[0], new_list[0]"
   ]
  },
  {
   "cell_type": "code",
   "execution_count": 167,
   "metadata": {},
   "outputs": [
    {
     "data": {
      "text/plain": [
       "([['Hello'], [1, 2, 3]], [['Hello'], [1, 2, 3]])"
      ]
     },
     "execution_count": 167,
     "metadata": {},
     "output_type": "execute_result"
    }
   ],
   "source": [
    "import copy\n",
    "\n",
    "# 리스트 안에 가변 객체를 넣었습니다.\n",
    "my_list = [[\"Hello\"], [1, 2, 3]]\n",
    "\n",
    "# 동일하지만 새로운 리스트 객체를 만들어줍니다.\n",
    "new_list = copy.deepcopy(my_list)\n",
    "#new_list = my_list.copy()\n",
    "id(new_list), id(my_list)\n",
    "my_list, new_list"
   ]
  },
  {
   "cell_type": "code",
   "execution_count": 168,
   "metadata": {},
   "outputs": [
    {
     "data": {
      "text/plain": [
       "([['Hello'], [1, 2, 3]], [['Hell'], [1024, 2, 3]])"
      ]
     },
     "execution_count": 168,
     "metadata": {},
     "output_type": "execute_result"
    }
   ],
   "source": [
    "# 새로운 리스트의 아이템만 수정하려고 시도\n",
    "new_list[0][0] = \"Hell\"\n",
    "\n",
    "new_list[1][0] = 1024\n",
    "\n",
    "# 그러나?\n",
    "my_list, new_list"
   ]
  },
  {
   "cell_type": "markdown",
   "metadata": {},
   "source": [
    "이런 일이 발생하는 원인은 리스트가 가지고 있는 아이템들이 객체 자체가 아니라 객체의 이름표 뿐이기 때문입니다.  \n",
    "copy 모듈의 deepcopy()를 이용하면 리스트에 들어있는 객체들을 통째로 복사해서 이런 현상을 방지할 수도 있는데 이 개념은 기초 문법 연습을 조금 더 한 후에 다시 공부하도록 하겠습니다.  "
   ]
  },
  {
   "cell_type": "markdown",
   "metadata": {},
   "source": [
    "### 리스트와 for 루프"
   ]
  },
  {
   "cell_type": "code",
   "execution_count": 150,
   "metadata": {},
   "outputs": [
    {
     "name": "stdout",
     "output_type": "stream",
     "text": [
      "['Hello', 1]\n",
      "2\n",
      "3\n",
      "4\n",
      "5\n"
     ]
    }
   ],
   "source": [
    "my_list = [[\"Hello\",1], 2, 3, 4, 5]\n",
    "\n",
    "# for문과 리스트\n",
    "for i in my_list:\n",
    "    print(i)"
   ]
  },
  {
   "cell_type": "code",
   "execution_count": 142,
   "metadata": {},
   "outputs": [
    {
     "name": "stdout",
     "output_type": "stream",
     "text": [
      "[1, 2, 3]\n",
      "[4, 5, 6]\n",
      "[7, 8, 9]\n"
     ]
    },
    {
     "data": {
      "text/plain": [
       "[1, 2, 3]"
      ]
     },
     "execution_count": 142,
     "metadata": {},
     "output_type": "execute_result"
    }
   ],
   "source": [
    "matrix = [[1, 2, 3], [4, 5, 6], [7, 8, 9]]\n",
    "for nested_list in matrix:\n",
    "    print(nested_list)\n"
   ]
  },
  {
   "cell_type": "code",
   "execution_count": 149,
   "metadata": {},
   "outputs": [
    {
     "name": "stdout",
     "output_type": "stream",
     "text": [
      "2\n",
      "3\n",
      "4\n",
      "5\n",
      "6\n",
      "7\n",
      "8\n",
      "9\n",
      "10\n"
     ]
    }
   ],
   "source": [
    "matrix = [[1, 2, 3], [4, 5, 6], [7, 8, 9]]\n",
    "for nested_list in matrix:\n",
    "\n",
    "    for i in nested_list:\n",
    "        print(i)"
   ]
  }
 ],
 "metadata": {
  "kernelspec": {
   "display_name": "Python 3.9.12 ('base')",
   "language": "python",
   "name": "python3"
  },
  "language_info": {
   "codemirror_mode": {
    "name": "ipython",
    "version": 3
   },
   "file_extension": ".py",
   "mimetype": "text/x-python",
   "name": "python",
   "nbconvert_exporter": "python",
   "pygments_lexer": "ipython3",
   "version": "3.9.12"
  },
  "orig_nbformat": 4,
  "vscode": {
   "interpreter": {
    "hash": "2c4fbd12b2a3d7b3b67397f22f182eeabf3f956831a534fae1b1ed1d3c46bd90"
   }
  }
 },
 "nbformat": 4,
 "nbformat_minor": 2
}
