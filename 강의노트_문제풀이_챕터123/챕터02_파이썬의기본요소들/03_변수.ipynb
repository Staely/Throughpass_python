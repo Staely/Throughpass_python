{
 "cells": [
  {
   "cell_type": "markdown",
   "metadata": {},
   "source": [
    "___\n",
    "<a href='https://cafe.naver.com/jmhonglab'><p style=\"text-align:center;\"><img src='https://lh3.googleusercontent.com/lY3ySXooSmwsq5r-mRi7uiypbo0Vez6pmNoQxMFhl9fmZJkRHu5lO2vo7se_0YOzgmDyJif9fi4_z0o3ZFdwd8NVSWG6Ea80uWaf3pOHpR4GHGDV7kaFeuHR3yAjIJjDgfXMxsvw=w2400'  class=\"center\" width=\"50%\" height=\"50%\"/></p></a>\n",
    "___\n",
    "<center><em>Content Copyright by HongLab, Inc.</em></center>"
   ]
  },
  {
   "cell_type": "markdown",
   "metadata": {},
   "source": [
    "# 변수의 기본적인 사용법"
   ]
  },
  {
   "cell_type": "markdown",
   "metadata": {},
   "source": [
    "### 변수 이름 짓기"
   ]
  },
  {
   "cell_type": "markdown",
   "metadata": {},
   "source": [
    "변수의 이름은 그 변수의 의미와 기능을 가장 짧게 표현할 수 있어야 합니다. 문법적으로는 아래와 같은 규칙들을 따라야 합니다.\n",
    "\n",
    "1. 알파벳(abc...), 숫자(123...), 그리고 언더스코어(_)를 사용한다. 한글 사용은 권장하지 않는다. \n",
    "1. 숫자로 시작할 수 없다.\n",
    "1. 중간에 빈 칸을 넣을 수 없다.\n",
    "1. 기호들을 사용할 수 없다. :'\",<>/?|\\()!@#$%^&*~-+\n",
    "1. 대소문자를 구분한다.\n",
    "1. 파이썬에서 미리 용도가 정해져있는 단어들을 사용하지 않는다.\n",
    "1. 헷갈리기 쉬운 글자들의 사용을 자제한다. ex: O와 0, 1과 l 등\n",
    "\n",
    "초보때는 무의식적으로 변수명을 짧게 대강 만들려는 분들도 계신데 습관이 되어버리면 코드 리뷰에서 불이익을 받습니다.  \n",
    "의미를 잘 표현하기 위해서는 여러 단어를 연결해야 하는 경우가 많은데 크게 두 가지 스타일을 사용합니다."
   ]
  },
  {
   "cell_type": "markdown",
   "metadata": {},
   "source": [
    "[스네이크 케이스](https://en.wikipedia.org/wiki/Snake_case): 단어들을 모두 소문자로 적고 그 사이를 언더스코어로 연결.  \n",
    "> 예) snake_case, my_name, tax_rate, ...  \n",
    "\n",
    "[캐멀 케이스](https://en.wikipedia.org/wiki/Camel_case): 단어들의 첫 글자만 대문자로 적어서 구분.  \n",
    "> 예) CamelCase, StatusRequest, ...\n",
    "\n",
    "파이썬의 표준 스타일 권고안인 [PEP8](https://www.python.org/dev/peps/pep-0008/#function-and-variable-names)에서는 함수와 변수의 이름에 스네이크 케이스 방식을 권장하고 있습니다.  \n",
    "참고로 사용자 정의 자료형인 클래스(class) 이름은 캐멀 케이스를 권장합니다."
   ]
  },
  {
   "cell_type": "code",
   "execution_count": 1,
   "metadata": {},
   "outputs": [],
   "source": [
    "first_name = \"Jeong-Mo\""
   ]
  },
  {
   "cell_type": "code",
   "execution_count": null,
   "metadata": {},
   "outputs": [],
   "source": [
    "1st_name = \"Jeong-Mo\""
   ]
  },
  {
   "cell_type": "code",
   "execution_count": null,
   "metadata": {},
   "outputs": [],
   "source": [
    "a = 1\n",
    "A = 2 # NOT ok 문법적으로 문제는 없지만, 사람이 하기 때문에, 단체로 하기 때문에 "
   ]
  },
  {
   "cell_type": "markdown",
   "metadata": {},
   "source": [
    "[파이썬 키워드 목록](https://docs.python.org/3/reference/lexical_analysis.html#keywords) (소프트키워드는 3.10이상)"
   ]
  },
  {
   "cell_type": "code",
   "execution_count": 3,
   "metadata": {},
   "outputs": [
    {
     "data": {
      "text/plain": [
       "['False',\n",
       " 'None',\n",
       " 'True',\n",
       " '__peg_parser__',\n",
       " 'and',\n",
       " 'as',\n",
       " 'assert',\n",
       " 'async',\n",
       " 'await',\n",
       " 'break',\n",
       " 'class',\n",
       " 'continue',\n",
       " 'def',\n",
       " 'del',\n",
       " 'elif',\n",
       " 'else',\n",
       " 'except',\n",
       " 'finally',\n",
       " 'for',\n",
       " 'from',\n",
       " 'global',\n",
       " 'if',\n",
       " 'import',\n",
       " 'in',\n",
       " 'is',\n",
       " 'lambda',\n",
       " 'nonlocal',\n",
       " 'not',\n",
       " 'or',\n",
       " 'pass',\n",
       " 'raise',\n",
       " 'return',\n",
       " 'try',\n",
       " 'while',\n",
       " 'with',\n",
       " 'yield']"
      ]
     },
     "execution_count": 3,
     "metadata": {},
     "output_type": "execute_result"
    }
   ],
   "source": [
    "import keyword\n",
    "\n",
    "keyword.kwlist"
   ]
  },
  {
   "cell_type": "code",
   "execution_count": 4,
   "metadata": {},
   "outputs": [
    {
     "data": {
      "text/plain": [
       "False"
      ]
     },
     "execution_count": 4,
     "metadata": {},
     "output_type": "execute_result"
    }
   ],
   "source": [
    "keyword.iskeyword(\"hong\")"
   ]
  },
  {
   "cell_type": "code",
   "execution_count": 5,
   "metadata": {},
   "outputs": [
    {
     "data": {
      "text/plain": [
       "True"
      ]
     },
     "execution_count": 5,
     "metadata": {},
     "output_type": "execute_result"
    }
   ],
   "source": [
    "keyword.iskeyword(\"continue\")"
   ]
  },
  {
   "cell_type": "markdown",
   "metadata": {},
   "source": [
    "### 대입 연산자 (assignment operators)"
   ]
  },
  {
   "cell_type": "markdown",
   "metadata": {},
   "source": [
    "수학에서의 대입과 달리 파이썬에서의 대입 연산자(=)는 메모리에 있는 객체에 이름표를 달아주는 것에 더 가깝습니다.  \n",
    "파이썬에게 이름을 얘기하면 운영체제가 관리하는 메모리의 어디에 있는지 찾아서 사용할 수 있게 해줍니다."
   ]
  },
  {
   "cell_type": "code",
   "execution_count": null,
   "metadata": {},
   "outputs": [],
   "source": [
    "a = 7 # a = int(7)\n",
    "b = 3\n",
    "c = a + b # c = a.__add__(b)\n",
    "print(c)"
   ]
  },
  {
   "cell_type": "code",
   "execution_count": null,
   "metadata": {},
   "outputs": [],
   "source": [
    "a += 10 # a = a + 10\n",
    "a *= 10 # a = a * 10\n",
    "a /= 10 # a = a / 10\n",
    "a //= 10 # a = a // 10\n",
    "a **= 10 # a = a ** 10\n",
    "a %= 10 # a = a % 10"
   ]
  },
  {
   "cell_type": "code",
   "execution_count": 4,
   "metadata": {},
   "outputs": [
    {
     "ename": "NameError",
     "evalue": "name 'a' is not defined",
     "output_type": "error",
     "traceback": [
      "\u001b[1;31m---------------------------------------------------------------------------\u001b[0m",
      "\u001b[1;31mNameError\u001b[0m                                 Traceback (most recent call last)",
      "\u001b[1;32mc:\\Users\\whaha_000\\Documents\\공부\\Python\\22\\July\\_123_v13-220712-005407\\강의노트_문제풀이_챕터123\\챕터02_파이썬의기본요소들\\03_변수.ipynb 셀 17\u001b[0m in \u001b[0;36m<cell line: 1>\u001b[1;34m()\u001b[0m\n\u001b[1;32m----> <a href='vscode-notebook-cell:/c%3A/Users/whaha_000/Documents/%EA%B3%B5%EB%B6%80/Python/22/July/_123_v13-220712-005407/%EA%B0%95%EC%9D%98%EB%85%B8%ED%8A%B8_%EB%AC%B8%EC%A0%9C%ED%92%80%EC%9D%B4_%EC%B1%95%ED%84%B0123/%EC%B1%95%ED%84%B002_%ED%8C%8C%EC%9D%B4%EC%8D%AC%EC%9D%98%EA%B8%B0%EB%B3%B8%EC%9A%94%EC%86%8C%EB%93%A4/03_%EB%B3%80%EC%88%98.ipynb#ch0000016?line=0'>1</a>\u001b[0m \u001b[39mprint\u001b[39m(\u001b[39mid\u001b[39m(a))\n\u001b[0;32m      <a href='vscode-notebook-cell:/c%3A/Users/whaha_000/Documents/%EA%B3%B5%EB%B6%80/Python/22/July/_123_v13-220712-005407/%EA%B0%95%EC%9D%98%EB%85%B8%ED%8A%B8_%EB%AC%B8%EC%A0%9C%ED%92%80%EC%9D%B4_%EC%B1%95%ED%84%B0123/%EC%B1%95%ED%84%B002_%ED%8C%8C%EC%9D%B4%EC%8D%AC%EC%9D%98%EA%B8%B0%EB%B3%B8%EC%9A%94%EC%86%8C%EB%93%A4/03_%EB%B3%80%EC%88%98.ipynb#ch0000016?line=2'>3</a>\u001b[0m a \u001b[39m=\u001b[39m a \u001b[39m+\u001b[39m a\n\u001b[0;32m      <a href='vscode-notebook-cell:/c%3A/Users/whaha_000/Documents/%EA%B3%B5%EB%B6%80/Python/22/July/_123_v13-220712-005407/%EA%B0%95%EC%9D%98%EB%85%B8%ED%8A%B8_%EB%AC%B8%EC%A0%9C%ED%92%80%EC%9D%B4_%EC%B1%95%ED%84%B0123/%EC%B1%95%ED%84%B002_%ED%8C%8C%EC%9D%B4%EC%8D%AC%EC%9D%98%EA%B8%B0%EB%B3%B8%EC%9A%94%EC%86%8C%EB%93%A4/03_%EB%B3%80%EC%88%98.ipynb#ch0000016?line=4'>5</a>\u001b[0m \u001b[39mprint\u001b[39m(\u001b[39mid\u001b[39m(a))\n",
      "\u001b[1;31mNameError\u001b[0m: name 'a' is not defined"
     ]
    }
   ],
   "source": [
    "print(id(a))\n",
    "\n",
    "a = a + a\n",
    "\n",
    "print(id(a))"
   ]
  },
  {
   "cell_type": "markdown",
   "metadata": {},
   "source": [
    "정의되지 않은 변수는 사용할 수 없어요."
   ]
  },
  {
   "cell_type": "code",
   "execution_count": 5,
   "metadata": {},
   "outputs": [
    {
     "ename": "NameError",
     "evalue": "name 'd' is not defined",
     "output_type": "error",
     "traceback": [
      "\u001b[1;31m---------------------------------------------------------------------------\u001b[0m",
      "\u001b[1;31mNameError\u001b[0m                                 Traceback (most recent call last)",
      "\u001b[1;32mc:\\Users\\whaha_000\\Documents\\공부\\Python\\22\\July\\_123_v13-220712-005407\\강의노트_문제풀이_챕터123\\챕터02_파이썬의기본요소들\\03_변수.ipynb 셀 19\u001b[0m in \u001b[0;36m<cell line: 1>\u001b[1;34m()\u001b[0m\n\u001b[1;32m----> <a href='vscode-notebook-cell:/c%3A/Users/whaha_000/Documents/%EA%B3%B5%EB%B6%80/Python/22/July/_123_v13-220712-005407/%EA%B0%95%EC%9D%98%EB%85%B8%ED%8A%B8_%EB%AC%B8%EC%A0%9C%ED%92%80%EC%9D%B4_%EC%B1%95%ED%84%B0123/%EC%B1%95%ED%84%B002_%ED%8C%8C%EC%9D%B4%EC%8D%AC%EC%9D%98%EA%B8%B0%EB%B3%B8%EC%9A%94%EC%86%8C%EB%93%A4/03_%EB%B3%80%EC%88%98.ipynb#ch0000018?line=0'>1</a>\u001b[0m \u001b[39mprint\u001b[39m(d)\n",
      "\u001b[1;31mNameError\u001b[0m: name 'd' is not defined"
     ]
    }
   ],
   "source": [
    "print(d) # d has not been defined yet."
   ]
  },
  {
   "cell_type": "markdown",
   "metadata": {},
   "source": [
    "여러 변수를 동시에 정의할 수도 있어요."
   ]
  },
  {
   "cell_type": "code",
   "execution_count": null,
   "metadata": {},
   "outputs": [],
   "source": [
    "a, b, c = 1, 2, 3"
   ]
  },
  {
   "cell_type": "code",
   "execution_count": 6,
   "metadata": {},
   "outputs": [
    {
     "name": "stdout",
     "output_type": "stream",
     "text": [
      "<class 'int'> <class 'float'> <class 'str'>\n"
     ]
    }
   ],
   "source": [
    "d, e, f = 4, 5.0, \"Hello\"\n",
    "\n",
    "print(type(d), type(e), type(f))"
   ]
  },
  {
   "cell_type": "markdown",
   "metadata": {},
   "source": [
    "### 동적인 자료형 결정 (Dynamic Typing)\n",
    "\n",
    "같은 변수 이름을 여러가지 자료형의 객체에게 바꿔가면서 할당할 수 있어요. 자료형을 정적으로 고정해놓는 것이 아니라 동적으로 그때그때 바꿀 수 있다는 의미로 **Dynamic Typing**이라고 부릅니다. 파이썬에서는 변수가 이름이라는 점을 이미 배웠기 때문에 그다지 신기한 일은 아니지요. '강아지'에게 '고양이'라는 이름을 붙인다고 강아지가 고양이로 변하는 것은 아니니까요.  \n",
    "그러나, 다른 언어와 비교할 때는 큰 차이 입니다. 예를 들어서 C언어에서는\n",
    "```\n",
    "int a;\n",
    "```\n",
    "와 같이 변수를 '선언'할 때 자료형을 고정시켜버리기 때문에 다른 자료형으로 바꿀 수가 없습니다.  \n",
    "Dynamic Typing의 장점은 \"객체의 자료형을 몰라도 된다\"이고 단점은 오류가 생겼을 때 \"객체의 자료형을 알기가 어렵다\"입니다. type()으로 확인해보면 되니까 너무 걱정마세요. 보완하는 방법도 함수에서 배우도록 하겠습니다."
   ]
  },
  {
   "cell_type": "code",
   "execution_count": 9,
   "metadata": {},
   "outputs": [
    {
     "name": "stdout",
     "output_type": "stream",
     "text": [
      "<class 'int'>\n",
      "2629729151280\n",
      "<class 'float'>\n",
      "2629842227536\n",
      "<class 'str'>\n",
      "2629842343792\n"
     ]
    }
   ],
   "source": [
    "a = 1\n",
    "print(type(a))\n",
    "print(id(a))\n",
    "\n",
    "a = 1.0\n",
    "print(type(a))\n",
    "print(id(a))\n",
    "\n",
    "a = \"Hello, World!\"\n",
    "print(type(a))\n",
    "print(id(a))\n"
   ]
  },
  {
   "cell_type": "markdown",
   "metadata": {},
   "source": [
    "### 가변성(Mutability)과 불변성(Immutability)\n",
    "같은 객체에 이름표를 두 개 발급할 수도 있어요."
   ]
  },
  {
   "cell_type": "code",
   "execution_count": 11,
   "metadata": {},
   "outputs": [
    {
     "name": "stdout",
     "output_type": "stream",
     "text": [
      "2629729343664 123\n",
      "2629729343696 124\n"
     ]
    }
   ],
   "source": [
    "a = 123\n",
    "b = a\n",
    "\n",
    "print(id(a), a)\n",
    "print(id(b), b)"
   ]
  },
  {
   "cell_type": "markdown",
   "metadata": {},
   "source": [
    "하지만 b의 값을 바꾸면 (b가 가리키고 있는 정수 객체의 값을 바꾸려고 시도하면) id가 달라집니다."
   ]
  },
  {
   "cell_type": "code",
   "execution_count": 12,
   "metadata": {},
   "outputs": [
    {
     "name": "stdout",
     "output_type": "stream",
     "text": [
      "2629729343664 123\n",
      "2629729343728 125\n"
     ]
    }
   ],
   "source": [
    "b = b + 1\n",
    "\n",
    "print(id(a), a)\n",
    "print(id(b), b)"
   ]
  },
  {
   "cell_type": "markdown",
   "metadata": {},
   "source": [
    "b 객체의 값을 바꾸는 것이 아니라 아예 새로운 값을 갖는 객체를 새로 만들기 때문입니다.  \n",
    "이것은 int 자료형이 객체의 값을 바꿀 수 없는(immutable) 자료형이기 때문입니다.  \n",
    "파이썬의 자료형에는 값을 바꿀 수 있는 것들(mutable)과 바꿀 수 없는 것들(immutable)이 있습니다.  \n",
    "\n",
    "|   | Immutable | Mutable|\n",
    "|---|---|---|\n",
    "|**Type**|int, float, bool, str, tuple|list, dict, set|\n",
    "\n",
    "\n",
    "뒤에 list에서 더 자세히 설명합니다."
   ]
  },
  {
   "cell_type": "markdown",
   "metadata": {},
   "source": [
    "### [실습] 원의 넓이 구하기\n",
    "\n",
    "반지름(radius)이 1.2인 원의 넓이(area)를 계산해봅시다.\n",
    "\n",
    "> $area = \\pi \\times radius^2$\n",
    "\n",
    "이때 $\\pi$는 3.141592라고 가정합시다.\n"
   ]
  },
  {
   "cell_type": "code",
   "execution_count": 21,
   "metadata": {},
   "outputs": [
    {
     "name": "stdout",
     "output_type": "stream",
     "text": [
      "<class 'float'>\n",
      "28.31328\n"
     ]
    }
   ],
   "source": [
    "PI = 3.14592    #대문자로 만들어진 변수명은 내가 마음대로 바꾸면 곤란하다.\n",
    "radius = float(input(\"반지름을 입력해주세요.:\"))\n",
    "print(type(radius))\n",
    "area = PI * radius**2\n",
    "print(area)"
   ]
  },
  {
   "cell_type": "markdown",
   "metadata": {},
   "source": [
    "만약 원주율을 계속 사용한다면?  \n",
    "사용자로부터 입력을 받는다면?"
   ]
  },
  {
   "cell_type": "markdown",
   "metadata": {},
   "source": [
    "### [실습] 세후 소득 계산하기"
   ]
  },
  {
   "cell_type": "markdown",
   "metadata": {},
   "source": [
    "내 소득과 세율이 주어졌을 때 내야 할 세금을 계산하는 식은  \n",
    ">세금 $=$ 소득 $\\times$ 세율\n",
    "\n",
    "입니다.\n",
    "1. 내 소득 my_income이 100이고 단순 세율 tax_rate가 0.2일 때 내야 할 세금 my_tax을 계산해서 출력해봅시다.\n",
    "2. 세금을 제외한 소득 after_tax_income도 계산해봅시다."
   ]
  },
  {
   "cell_type": "markdown",
   "metadata": {},
   "source": []
  },
  {
   "cell_type": "code",
   "execution_count": 24,
   "metadata": {},
   "outputs": [
    {
     "name": "stdout",
     "output_type": "stream",
     "text": [
      "세금은 20.0 입니다.\n",
      "세금을 제외한 소득은 80.0 입니다.\n"
     ]
    }
   ],
   "source": [
    "my_income = 100\n",
    "tax_rate = 0.2\n",
    "my_tax = my_income * tax_rate\n",
    "after_tax_income= my_income-my_tax\n",
    "print(\"세금은\",my_tax,\"입니다.\")\n",
    "print(\"세금을 제외한 소득은\",after_tax_income,\"입니다.\")"
   ]
  },
  {
   "cell_type": "markdown",
   "metadata": {},
   "source": [
    "3. my_income과 tax_rate를 input() 함수를 이용해서 입력받아봅시다."
   ]
  },
  {
   "cell_type": "code",
   "execution_count": 25,
   "metadata": {},
   "outputs": [
    {
     "name": "stdout",
     "output_type": "stream",
     "text": [
      "세금은 20.0 입니다.\n",
      "세금을 제외한 소득은 80.0 입니다.\n"
     ]
    }
   ],
   "source": [
    "my_income=float(input(\"소득을 입력해주세요 :\"))\n",
    "tax_rate=float(input(\"세율을 입력해주세요.:\"))\n",
    "my_tax = my_income * tax_rate\n",
    "after_tax_income= my_income-my_tax\n",
    "print(\"세금은\",my_tax,\"입니다.\")\n",
    "print(\"세금을 제외한 소득은\",after_tax_income,\"입니다.\")"
   ]
  }
 ],
 "metadata": {
  "kernelspec": {
   "display_name": "Python 3.9.12 ('base')",
   "language": "python",
   "name": "python3"
  },
  "language_info": {
   "codemirror_mode": {
    "name": "ipython",
    "version": 3
   },
   "file_extension": ".py",
   "mimetype": "text/x-python",
   "name": "python",
   "nbconvert_exporter": "python",
   "pygments_lexer": "ipython3",
   "version": "3.9.12"
  },
  "orig_nbformat": 4,
  "vscode": {
   "interpreter": {
    "hash": "2c4fbd12b2a3d7b3b67397f22f182eeabf3f956831a534fae1b1ed1d3c46bd90"
   }
  }
 },
 "nbformat": 4,
 "nbformat_minor": 2
}
