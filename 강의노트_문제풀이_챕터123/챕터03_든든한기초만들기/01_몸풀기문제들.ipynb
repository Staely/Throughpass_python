{
 "cells": [
  {
   "cell_type": "markdown",
   "metadata": {},
   "source": [
    "___\n",
    "<a href='https://cafe.naver.com/jmhonglab'><p style=\"text-align:center;\"><img src='https://lh3.googleusercontent.com/lY3ySXooSmwsq5r-mRi7uiypbo0Vez6pmNoQxMFhl9fmZJkRHu5lO2vo7se_0YOzgmDyJif9fi4_z0o3ZFdwd8NVSWG6Ea80uWaf3pOHpR4GHGDV7kaFeuHR3yAjIJjDgfXMxsvw=w2400'  class=\"center\" width=\"50%\" height=\"50%\"/></p></a>\n",
    "___\n",
    "<center><em>Content Copyright by HongLab, Inc.</em></center>"
   ]
  },
  {
   "cell_type": "markdown",
   "metadata": {},
   "source": [
    "##### [문제] 오류 수정 연습\n",
    "\n",
    "정상적으로 실행되도록 수정해보세요.\n",
    "\n",
    "| 입력 | 출력 |\n",
    "|---|---|\n",
    "|없음|Hi, I'm Thanos!|"
   ]
  },
  {
   "cell_type": "code",
   "execution_count": 279,
   "metadata": {},
   "outputs": [
    {
     "name": "stdout",
     "output_type": "stream",
     "text": [
      "Hi, I'm Thanos!\n"
     ]
    }
   ],
   "source": [
    "print(\"Hi, I\\'m Thanos!\")"
   ]
  },
  {
   "cell_type": "markdown",
   "metadata": {},
   "source": [
    "정상적으로 실행되도록 수정해보세요.\n",
    "\n",
    "| 입력 | 출력 |\n",
    "|---|---|\n",
    "|없음|a는 10입니다.|"
   ]
  },
  {
   "cell_type": "code",
   "execution_count": 1,
   "metadata": {},
   "outputs": [
    {
     "name": "stdout",
     "output_type": "stream",
     "text": [
      "a는 10입니다.\n"
     ]
    }
   ],
   "source": [
    "a = 10\n",
    "\n",
    "if a == 10:\n",
    "    print(\"a는 10입니다.\")"
   ]
  },
  {
   "cell_type": "markdown",
   "metadata": {},
   "source": [
    "##### [문제] 스왑(swap)\n",
    "\n",
    "x와 y를 서로 바꿔서(swap) x가 123, y가 \"Hello\"가 되도록 만들어보세요.\n",
    "\n",
    "| 입력 | 출력 |\n",
    "|---|---|\n",
    "|없음|(123, \"Hello\")|"
   ]
  },
  {
   "cell_type": "code",
   "execution_count": 280,
   "metadata": {},
   "outputs": [
    {
     "name": "stdout",
     "output_type": "stream",
     "text": [
      "X =  123 Y =  Hello\n"
     ]
    }
   ],
   "source": [
    "x, y = \"Hello\", 123\n",
    "\n",
    "# 여기에 구현해보세요\n",
    "x, y=y,x # 결과 확인\n",
    "print(\"X = \",x,\"Y = \",y)"
   ]
  },
  {
   "cell_type": "markdown",
   "metadata": {},
   "source": [
    "##### [문제] 100보다 큰 숫자만\n",
    "\n",
    "아래 리스트에서 100 보다 큰 숫자만 골라서 출력해보세요\n",
    "\n",
    "| 입력 | 출력 |\n",
    "|---|---|\n",
    "|없음|150 230|"
   ]
  },
  {
   "cell_type": "code",
   "execution_count": 282,
   "metadata": {},
   "outputs": [
    {
     "name": "stdout",
     "output_type": "stream",
     "text": [
      "150 230 "
     ]
    }
   ],
   "source": [
    "my_list = [3, 6, 150, 230, 0, -1.3]\n",
    "\n",
    "for big_number in my_list:\n",
    "    if big_number >100:\n",
    "        print(big_number,end=\" \")"
   ]
  },
  {
   "cell_type": "markdown",
   "metadata": {},
   "source": [
    "##### [문제] 제곱의 합\n",
    "\n",
    "for문을 이용해서 1부터 100까지 숫자들의 제곱의 합을 구해보세요.\n",
    "$1^2 + 2^2 + \\cdots + 100^2$를 구하면 됩니다.\n",
    "| 입력 | 출력 |\n",
    "|---|---|\n",
    "|없음|338350|"
   ]
  },
  {
   "cell_type": "code",
   "execution_count": 7,
   "metadata": {},
   "outputs": [
    {
     "name": "stdout",
     "output_type": "stream",
     "text": [
      "338350\n"
     ]
    }
   ],
   "source": [
    "p_sum =0\n",
    "for num in range(1,101):\n",
    "    p_sum += (num * num)\n",
    "\n",
    "print(p_sum)"
   ]
  },
  {
   "cell_type": "markdown",
   "metadata": {},
   "source": [
    "##### [문제] 소수 판별\n",
    "\n",
    "1 이상의 정수를 입력받아서 소수(prime number)인지 확인하는 프로그램을 만들어봅시다. 아래의 입출력 표를 참고해서 소수가 아닐 경우에는 나눌 수 있는 가장 작은 수도 같이 출력하세요.\n",
    "\n",
    "| 입력 | 출력 |\n",
    "|---|---|\n",
    "|1|1은 소수가 아닙니다.|\n",
    "|7|7은 소수입니다.|\n",
    "|10|10은 2로 나눌 수 있습니다.|\n",
    "|91|91은 7로 나눌 수 있습니다.|\n",
    "|103|103은 소수입니다.|\n",
    "\n",
    "**힌트**\n",
    "1. 1과 자기 자신으로만 나누어 떨어지는 숫자를 소수라고 합니다. 예를 들어서 6은 2 곱하기 3이기 때문에 소수가 아닙니다. 5나 7은 소수입니다. \n",
    "1. 입력받은 숫자가 1일 경우에는 별도의 ```if```문으로 처리해서 for문을 거치지 않게 하세요.\n",
    "1. 가장 단순한 방법은 하나씩 나눠보고 나머지가 0인지를 검사하는 것이겠지요. 예를 들어서 입력이 35라면 2로 나눠보고 3으로 나눠보고 ... 5로 나눴을 때 나머지가 0이니까 검사를 중단하면 됩니다.\n",
    "1. ```else```는 ```if```와도 사용될 수 있고 ```for```와도 사용될 수 있는데 **들여쓰기가 같은** ```for```나 ```if```와 함께 사용되는 것입니다. 줄 수가 가까운 쪽이 아닙니다."
   ]
  },
  {
   "cell_type": "code",
   "execution_count": 36,
   "metadata": {},
   "outputs": [
    {
     "name": "stdout",
     "output_type": "stream",
     "text": [
      "99 은  3 로 나눌 수 있습니다.\n",
      "99 은  9 로 나눌 수 있습니다.\n",
      "99 은  11 로 나눌 수 있습니다.\n",
      "99 은  33 로 나눌 수 있습니다.\n"
     ]
    }
   ],
   "source": [
    "num = int(input(\"자연수를 입력해주세요:\"))\n",
    "count =0\n",
    "if num == 1:\n",
    "    print(num,\"은 소수가 아닙니다.\")\n",
    "else:\n",
    "    for p_num in range(2,num+1):\n",
    "        if num % p_num ==0:\n",
    "            if num==p_num:\n",
    "                if count == 0:\n",
    "                    print(num,\"은 소수 입니다.\")\n",
    "            else:\n",
    "                print(num,\"은 \",p_num,\"로 나눌 수 있습니다.\")\n",
    "                count+=1\n",
    "            \n",
    "\n"
   ]
  },
  {
   "cell_type": "markdown",
   "metadata": {},
   "source": [
    "##### [문제] 간단 계산기\n",
    "\n",
    "숫자, 연산자, 숫자를 순서대로 별도의 input() 함수로 입력받고 계산 결과를 출력하는 프로그램을 만들어 보세요.\n",
    "\n",
    "| 입력 | 출력 |\n",
    "|---|---|\n",
    "|1 + 10|1 + 10 = 11|\n",
    "|100 - 5|100 - 5 = 95|\n",
    "|3 * 5|3 * 5 = 15|\n",
    "|12 / 4|12 / 4 = 3.0|"
   ]
  },
  {
   "cell_type": "code",
   "execution_count": 283,
   "metadata": {},
   "outputs": [
    {
     "name": "stdout",
     "output_type": "stream",
     "text": [
      "1 + 2 = 3\n"
     ]
    }
   ],
   "source": [
    "# input() 함수를 3번 사용합니다.\n",
    "first_number = int(input(\"첫 번째 숫자를 입력해주세요:\"))\n",
    "operator = input(\"연산자를 입력해주세요:\")\n",
    "second_number = int(input(\"두 번째 숫자를 입력해주세요:\"))\n",
    "\n",
    "if operator == \"+\":\n",
    "    result = first_number+second_number\n",
    "elif operator == \"-\":\n",
    "    result = first_number-second_number\n",
    "elif operator == \"*\":\n",
    "    result = first_number*second_number\n",
    "elif operator == \"/\":\n",
    "    result = first_number/second_number\n",
    "\n",
    "print(first_number,operator,second_number,\"=\",result)"
   ]
  },
  {
   "cell_type": "markdown",
   "metadata": {},
   "source": [
    "##### [문제] ```eval()``` 함수와 표현식\n",
    "\n",
    "문자열에 계산 가능한 식을 넣으면 그 값을 계산해주는 편리한 함수입니다. 예를 들어서 ```eval(\"1 + 10\")```을 실행시키면 11이 됩니다. ```eval()``` 함수를 이용해서 계산 식을 입력하면 그 결과가 출력되는 프로그램을 만들어봅시다.\n",
    "\n",
    "| 입력 | 출력 |\n",
    "|---|---|\n",
    "|1+10|11|\n",
    "|100-5| 95|\n",
    "|3*5|15|\n",
    "|12/4|3.0|\n",
    "|(1+2)*3|9|"
   ]
  },
  {
   "cell_type": "code",
   "execution_count": 67,
   "metadata": {},
   "outputs": [
    {
     "data": {
      "text/plain": [
       "-10"
      ]
     },
     "execution_count": 67,
     "metadata": {},
     "output_type": "execute_result"
    }
   ],
   "source": [
    "user_input = input(\"계산식을 입력해주세요:\")\n",
    "eval(user_input)\n"
   ]
  },
  {
   "cell_type": "markdown",
   "metadata": {},
   "source": [
    "##### [문제] eval() 함수와 시퀀스\n",
    "\n",
    "여러 개의 숫자를 컴마로 구분해서 입력받고 그 숫자들의 합을 구해봅시다.\n",
    "\n",
    "| 입력 | 출력 |\n",
    "|---|---|\n",
    "|1, 2, 3|6|\n",
    "|3, 2, 1, 8, 6|20|\n",
    "|7|오류|\n",
    "|7,|7|\n",
    "\n",
    "참고로 ```1 2 3```과 같이 빈칸만으로 구분해서 입력하면 오류가 발생합니다."
   ]
  },
  {
   "cell_type": "code",
   "execution_count": 287,
   "metadata": {},
   "outputs": [
    {
     "data": {
      "text/plain": [
       "tuple"
      ]
     },
     "execution_count": 287,
     "metadata": {},
     "output_type": "execute_result"
    }
   ],
   "source": [
    "# 어떠한 단계를 통해서 원하는 결과 값을 구할 수 있는가?\n",
    "# 22.8.23 내가 푼 문제\n",
    "# fir_input = input(\"숫자들은 입력해주세요.\")\n",
    "# eval(fir_input.replace(\",\",\"+\"))\n",
    "\n",
    "# , 를 + 로 치환을 하고 eval()에 넣어주면 된다.\n",
    "# 문제 속에 또 문제, 어떻게 하면 7을 어떻게 하면 숫자로 만들 수 있을까?\n",
    "\n",
    "# 22.8.23 홍정모교수님의 답변,Hint을 보고 다시 푼 문제\n",
    "# Hint의 내용은 print(type(input_numbers))\n",
    "# 내가 푼 문제\n",
    "# input_numbers = input(\"숫자를 입력해주세요.\")\n",
    "# if input_numbers.count(\",\") == 0:\n",
    "#     print(eval(int(input_numbers)))\n",
    "# elif input_numbers[-1:] ==\",\":\n",
    "#     print(eval(input_numbers[:-1].replace(\",\",\"+\")))\n",
    "# else:\n",
    "#     print(eval(input_numbers.replace(\",\",\"+\")))\n",
    "\n",
    "input_numbers = eval(input())\n",
    "my_sum =0\n",
    "for i in input_numbers:\n",
    "    my_sum += i\n",
    "\n",
    "print(my_sum)\n"
   ]
  },
  {
   "cell_type": "markdown",
   "metadata": {},
   "source": [
    "##### [문제] BMI 계산기\n",
    "\n",
    "키와 몸무게를 입력받아서 BMI 수치와 비만 정도를 알려주는 프로그램을 만들어봅시다.\n",
    "BMI는 아래 식을 이용해서 계산할 수 있습니다. 주의 사항은 키를 입력받을 때는 cm 단위로 입력받은 후에 다시 미터 단위로 변환해서 계산에 사용해야 합니다.\n",
    "\n",
    "$BMI = 몸무게 / (키 * 키)$\n",
    "\n",
    "문제를 단순화 하기 위하여 BMI 25 이상은 비만, 18.5 미만은 저체중, 그 외에는 정상으로 판별해봅시다. \n",
    "\n",
    "|입력|출력|\n",
    "|---|---|\n",
    "|키178몸무게80|BMI 수치는 25.25 입니다. 비만|\n",
    "|키164몸무게48|BMI 수치는 17.85 입니다. 저체중|\n",
    "|키170몸무게60|BMI 수치는 20.76 입니다. 정상|\n",
    "\n",
    "BMI는 소수점 아래 2자리만 출력하세요."
   ]
  },
  {
   "cell_type": "code",
   "execution_count": 108,
   "metadata": {},
   "outputs": [
    {
     "name": "stdout",
     "output_type": "stream",
     "text": [
      "BMI 수치는 24.22 입니다. 정상\n"
     ]
    }
   ],
   "source": [
    "bmi_height = float(input(\"키를 입력해주세요.\"))\n",
    "bmi_weight = float(input(\"몸무게를 입력해주세요.\"))\n",
    "bmi_cal = float(bmi_weight/(bmi_height*bmi_height*0.0001))\n",
    "\n",
    "if bmi_cal >= 25:\n",
    "    print(\"BMI 수치는 %.2f 입니다. 비만\"%bmi_cal)\n",
    "elif bmi_cal <18.8:\n",
    "    print(\"BMI 수치는 %.2f 입니다. 저체중\"%bmi_cal)\n",
    "else:\n",
    "    print(\"BMI 수치는 %.2f 입니다. 정상\"%bmi_cal)"
   ]
  },
  {
   "cell_type": "markdown",
   "metadata": {},
   "source": [
    "##### [문제] FizzBuzz\n",
    "\n",
    "1에서 20까지의 정수에 대해서 3의 배수이면 Fizz를, 5의 배수이면 Buzz를, 3의 배수이면서 5의 배수라면 FizzBuzz를 출력합니다.\n",
    "\n",
    "**실행 예시**\n",
    "\n",
    "```\n",
    "1 2 Fizz 4 Buzz Fizz 7 8 Fizz Buzz 11 Fizz 13 14 FizzBuzz 16 17 Fizz 19 Buzz\n",
    "```\n"
   ]
  },
  {
   "cell_type": "code",
   "execution_count": 109,
   "metadata": {},
   "outputs": [
    {
     "name": "stdout",
     "output_type": "stream",
     "text": [
      "1 2 Fizz 4 Buzz Fizz 7 8 Fizz Buzz 11 Fizz 13 14 Fizz 16 17 Fizz 19 Buzz "
     ]
    }
   ],
   "source": [
    "for FB_intger in range(1,21):\n",
    "    if FB_intger % 3 ==0:\n",
    "        print(\"Fizz\",end=\" \")\n",
    "    elif FB_intger % 5 == 0:\n",
    "        print(\"Buzz\",end=\" \")\n",
    "    else :\n",
    "        print(FB_intger,end=\" \")\n"
   ]
  },
  {
   "cell_type": "markdown",
   "metadata": {},
   "source": [
    "##### [문제] 369 게임\n",
    "\n",
    "1에서 20까지의 정수에 대해서 끝자리 숫자가 3이나 6이나 9라면 \"짝\"을 출력하고 그렇지 않다면 그 숫자를 출력합니다.\n",
    "\n",
    "```\n",
    "1 2 짝 4 5 짝 7 8 짝 10 11 12 짝 14 15 짝 17 18 짝 20\n",
    "```\n"
   ]
  },
  {
   "cell_type": "code",
   "execution_count": 124,
   "metadata": {},
   "outputs": [
    {
     "name": "stdout",
     "output_type": "stream",
     "text": [
      "1 2 짝 4 5 짝 7 8 짝 10 11 12 짝 14 15 짝 17 18 짝 20 21 22 짝 24 25 짝 27 28 짝 짝 짝 짝 짝 짝 짝 짝 짝 짝 짝 40 "
     ]
    },
    {
     "data": {
      "text/plain": [
       "3"
      ]
     },
     "execution_count": 124,
     "metadata": {},
     "output_type": "execute_result"
    }
   ],
   "source": [
    "for intger_369 in range(1,21):\n",
    "    if int(str(intger_369)[-1:]) == 0:\n",
    "        if int(str(intger_369)[:1]) % 3 ==0:\n",
    "            print(\"짝\",end =\" \")\n",
    "        else:\n",
    "            print(intger_369,end=\" \")\n",
    "    elif int(str(intger_369)[:1]) % 3 ==0:\n",
    "            print(\"짝\",end =\" \")\n",
    "    else:\n",
    "        if int(str(intger_369)[-1:]) % 3 ==0:\n",
    "            print(\"짝\",end=\" \")\n",
    "        else:\n",
    "            print(intger_369,end=\" \")"
   ]
  },
  {
   "cell_type": "markdown",
   "metadata": {},
   "source": [
    "##### [문제] 자연수만 입력받기\n",
    "\n",
    "사용자가 input() 함수로 자연수를 입력할 때까지 반복해서 입력을 받도록 해봅시다. 자연수는 1, 2, 3, ... 같이 1이상의 양의 정수입니다.\n",
    "\n",
    "**실행 예시**  \n",
    "자연수를 입력해주세요: 0  \n",
    "자연수가 아닙니다.  \n",
    "자연수를 입력해주세요: hello  \n",
    "자연수가 아닙니다.  \n",
    "자연수를 입력해주세요: a123  \n",
    "자연수가 아닙니다.  \n",
    "자연수를 입력해주세요: -100  \n",
    "자연수가 아닙니다.  \n",
    "자연수를 입력해주세요: 1234  \n",
    "자연수입니다.\n",
    "\n",
    "**힌트**  \n",
    "1. ```isnumeric()``` 메써드 사용\n",
    "1. ```:=``` 연산자 사용 (파이썬 3.8 이상인지 확인)"
   ]
  },
  {
   "cell_type": "code",
   "execution_count": 233,
   "metadata": {},
   "outputs": [
    {
     "name": "stdout",
     "output_type": "stream",
     "text": [
      "1\n",
      "자연수가 아닙니다.\n",
      "hello\n",
      "자연수가 아닙니다.\n",
      "a123\n",
      "자연수가 아닙니다.\n",
      "-100\n",
      "자연수가 아닙니다.\n",
      "1234\n",
      "자연수입니다.\n"
     ]
    }
   ],
   "source": [
    "while (N_number := input(\"자연수를 입력해주세요:\")):\n",
    "    if (N_number.isnumeric()==1):\n",
    "        if int(N_number) > 1:\n",
    "            break\n",
    "    print(N_number)\n",
    "    print(\"자연수가 아닙니다.\")\n",
    "\n",
    "print(N_number)\n",
    "print(\"자연수입니다.\")"
   ]
  }
 ],
 "metadata": {
  "interpreter": {
   "hash": "d187a48a8a4b28f37103ceb7e85bceb2b63d70db7314890fe18e7e16ec425e3f"
  },
  "kernelspec": {
   "display_name": "Python 3.9.7 64-bit ('base': conda)",
   "language": "python",
   "name": "python3"
  },
  "language_info": {
   "codemirror_mode": {
    "name": "ipython",
    "version": 3
   },
   "file_extension": ".py",
   "mimetype": "text/x-python",
   "name": "python",
   "nbconvert_exporter": "python",
   "pygments_lexer": "ipython3",
   "version": "3.10.0"
  },
  "orig_nbformat": 4
 },
 "nbformat": 4,
 "nbformat_minor": 2
}
